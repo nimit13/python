{
  "nbformat": 4,
  "nbformat_minor": 0,
  "metadata": {
    "colab": {
      "name": "2Dnumpy.ipynb",
      "version": "0.3.2",
      "provenance": [],
      "include_colab_link": true
    },
    "kernelspec": {
      "name": "python3",
      "display_name": "Python 3"
    }
  },
  "cells": [
    {
      "cell_type": "markdown",
      "metadata": {
        "id": "view-in-github",
        "colab_type": "text"
      },
      "source": [
        "<a href=\"https://colab.research.google.com/github/nimit13/python/blob/master/2Dnumpy.ipynb\" target=\"_parent\"><img src=\"https://colab.research.google.com/assets/colab-badge.svg\" alt=\"Open In Colab\"/></a>"
      ]
    },
    {
      "cell_type": "code",
      "metadata": {
        "id": "EhrQe_PwdAB4",
        "colab_type": "code",
        "colab": {}
      },
      "source": [
        "import numpy as npy\n",
        "import random\n",
        "\n"
      ],
      "execution_count": 0,
      "outputs": []
    },
    {
      "cell_type": "code",
      "metadata": {
        "id": "rSZ_UboqdHw5",
        "colab_type": "code",
        "colab": {
          "base_uri": "https://localhost:8080/",
          "height": 121
        },
        "outputId": "67005925-273a-41af-844f-db4e46553a5c"
      },
      "source": [
        "\n",
        "print(\"Enter details for 1st matrix\")\n",
        "x=int (input(\"Enter no. of rows for Matrix 1  :  \"))\n",
        "y=int (input(\"Enter no. of columns for Matrix 1 :  \"))\n",
        "\n",
        "print(\"Enter details for 2nd matrix\")\n",
        "x1=int(input(\"Enter no. of rows for Matrix 2  :\"))\n",
        "y1=int(input(\"Enter no. of columns for Matrix 2  :  \"))\n",
        "\n",
        "\n"
      ],
      "execution_count": 2,
      "outputs": [
        {
          "output_type": "stream",
          "text": [
            "Enter details for 1st matrix\n",
            "Enter no. of rows for Matrix 1  :  3\n",
            "Enter no. of columns for Matrix 1 :  2\n",
            "Enter details for 2nd matrix\n",
            "Enter no. of rows for Matrix 2  :6\n",
            "Enter no. of columns for Matrix 2  :  7\n"
          ],
          "name": "stdout"
        }
      ]
    },
    {
      "cell_type": "code",
      "metadata": {
        "id": "ANWX5zwWdrv_",
        "colab_type": "code",
        "colab": {
          "base_uri": "https://localhost:8080/",
          "height": 155
        },
        "outputId": "161de1db-2891-44dd-d201-20c0a8af771a"
      },
      "source": [
        "#a is (x,y)\n",
        "#b is (x1,y1)\n",
        "   \n",
        "\n",
        "a=npy.random.randint(10, size=(x, y))\n",
        "b=npy.random.randint(10, size=(x1,y1))\n",
        "  \n",
        "  \n",
        "npy.savetxt(\"array1.txt\", a,fmt=\"%s\")\n",
        "npy.savetxt(\"array2.txt\",b, fmt=\"%s\")\n",
        "print(\"ARRAY 1\")\n",
        "npy.loadtxt(\"array1.txt\")\n",
        "print(\"ARRAY 2\")\n",
        "npy.loadtxt(\"array2.txt\")"
      ],
      "execution_count": 3,
      "outputs": [
        {
          "output_type": "stream",
          "text": [
            "ARRAY 1\n",
            "ARRAY 2\n"
          ],
          "name": "stdout"
        },
        {
          "output_type": "execute_result",
          "data": {
            "text/plain": [
              "array([[7., 3., 1., 5., 4., 2., 4.],\n",
              "       [1., 0., 7., 9., 4., 1., 3.],\n",
              "       [3., 9., 0., 0., 8., 3., 4.],\n",
              "       [4., 1., 1., 3., 0., 6., 0.],\n",
              "       [6., 0., 2., 6., 3., 5., 7.],\n",
              "       [1., 1., 6., 9., 5., 3., 3.]])"
            ]
          },
          "metadata": {
            "tags": []
          },
          "execution_count": 3
        }
      ]
    },
    {
      "cell_type": "code",
      "metadata": {
        "id": "xTf4Fu_teVgS",
        "colab_type": "code",
        "colab": {
          "base_uri": "https://localhost:8080/",
          "height": 86
        },
        "outputId": "6af3d459-e0fd-4d41-cc4e-9c266b63968c"
      },
      "source": [
        "print(\"ARRAY 1\")\n",
        "npy.loadtxt(\"array1.txt\")"
      ],
      "execution_count": 4,
      "outputs": [
        {
          "output_type": "stream",
          "text": [
            "ARRAY 1\n"
          ],
          "name": "stdout"
        },
        {
          "output_type": "execute_result",
          "data": {
            "text/plain": [
              "array([[9., 6.],\n",
              "       [9., 9.],\n",
              "       [5., 2.]])"
            ]
          },
          "metadata": {
            "tags": []
          },
          "execution_count": 4
        }
      ]
    },
    {
      "cell_type": "code",
      "metadata": {
        "id": "gErgHFU7fW31",
        "colab_type": "code",
        "colab": {}
      },
      "source": [
        ""
      ],
      "execution_count": 0,
      "outputs": []
    }
  ]
}